{
 "cells": [
  {
   "cell_type": "markdown",
   "id": "5820f5c2",
   "metadata": {},
   "source": [
    "## Маски байеровского шаблона для трех каналов"
   ]
  },
  {
   "cell_type": "code",
   "execution_count": 309,
   "id": "560b1aa7",
   "metadata": {},
   "outputs": [],
   "source": [
    "import numpy as np\n",
    "from skimage import img_as_float, img_as_ubyte"
   ]
  },
  {
   "cell_type": "code",
   "execution_count": 877,
   "id": "7cc438da",
   "metadata": {},
   "outputs": [
    {
     "data": {
      "text/plain": [
       "array([[1, 2, 3],\n",
       "       [4, 5, 6],\n",
       "       [7, 8, 9]])"
      ]
     },
     "execution_count": 877,
     "metadata": {},
     "output_type": "execute_result"
    }
   ],
   "source": [
    "red = np.array([[1, 2, 3], [4, 5, 6], [7, 8, 9]])\n",
    "red"
   ]
  },
  {
   "cell_type": "code",
   "execution_count": 632,
   "id": "df7b73e8",
   "metadata": {},
   "outputs": [],
   "source": [
    "def get_bayer_masks(n_rows, n_cols):\n",
    "    n_rows_2 = int((n_rows + (n_rows % 2)) / 2 + 1)\n",
    "    n_cols_2 = int((n_cols + (n_cols % 2)) / 2 + 1)\n",
    "    \n",
    "    red = np.array([0, 1, 0, 0], 'bool').reshape(2, 2)\n",
    "    green = np.array([1, 0, 0, 1], 'bool').reshape(2, 2)\n",
    "    blue = np.array([0, 0, 1, 0], 'bool').reshape(2, 2)\n",
    "    \n",
    "    red = np.tile(red,[n_rows_2, n_cols_2])[:n_rows, :n_cols]\n",
    "    green = np.tile(green,[n_rows_2, n_cols_2])[:n_rows, :n_cols]\n",
    "    blue = np.tile(blue,[n_rows_2, n_cols_2])[:n_rows, :n_cols]\n",
    "\n",
    "    a = np.dstack((red, green, blue))\n",
    "    return a"
   ]
  },
  {
   "cell_type": "code",
   "execution_count": 633,
   "id": "392dcee0",
   "metadata": {},
   "outputs": [
    {
     "data": {
      "text/plain": [
       "array([[[False,  True, False],\n",
       "        [ True, False, False]],\n",
       "\n",
       "       [[False, False,  True],\n",
       "        [False,  True, False]],\n",
       "\n",
       "       [[False,  True, False],\n",
       "        [ True, False, False]],\n",
       "\n",
       "       [[False, False,  True],\n",
       "        [False,  True, False]],\n",
       "\n",
       "       [[False,  True, False],\n",
       "        [ True, False, False]],\n",
       "\n",
       "       [[False, False,  True],\n",
       "        [False,  True, False]]])"
      ]
     },
     "execution_count": 633,
     "metadata": {},
     "output_type": "execute_result"
    }
   ],
   "source": [
    "get_bayer_masks(6,2)"
   ]
  },
  {
   "cell_type": "markdown",
   "id": "5fff4615",
   "metadata": {},
   "source": [
    "## Цветное изображение с неизвестными значениями"
   ]
  },
  {
   "cell_type": "code",
   "execution_count": 590,
   "id": "5b64f7a7",
   "metadata": {},
   "outputs": [],
   "source": [
    "def get_colored_img(raw_img):\n",
    "    a = get_bayer_masks(len(raw_img), len(raw_img[0]))\n",
    "    a = np.dstack((a[...,0]*raw_img, a[...,1]*raw_img, a[...,2]*raw_img))\n",
    "    return a"
   ]
  },
  {
   "cell_type": "code",
   "execution_count": 714,
   "id": "8fa59fc7",
   "metadata": {},
   "outputs": [
    {
     "data": {
      "text/plain": [
       "array([[0, 2, 0],\n",
       "       [0, 0, 0],\n",
       "       [0, 8, 0]])"
      ]
     },
     "execution_count": 714,
     "metadata": {},
     "output_type": "execute_result"
    }
   ],
   "source": [
    "get_colored_img(red)[...,0]"
   ]
  },
  {
   "cell_type": "markdown",
   "id": "324f6841",
   "metadata": {},
   "source": [
    "## Билинейная интерполяция"
   ]
  },
  {
   "cell_type": "code",
   "execution_count": 1210,
   "id": "a4ea057d",
   "metadata": {},
   "outputs": [],
   "source": [
    "def bilinear_interpolation(colored_img):\n",
    "\n",
    "    h, w = colored_img[..., 0].shape\n",
    "    res_matr = colored_img * 0\n",
    "\n",
    "    for i in range(3):\n",
    "        res = colored_img[..., i].copy()\n",
    "        bayer = get_bayer_masks(h, w)[..., i]\n",
    "\n",
    "        for j in range(1, h-1):\n",
    "            for k in range(1, w-1):\n",
    "                if bayer[j,k] == 0:\n",
    "                    colored_img[..., i][j, k] = np.sum(res[j-1:j+2, k-1:k+2])/np.count_nonzero(bayer[j-1:j+2, k-1:k+2])\n",
    "    \n",
    "    res_matr[1:h-1, 1:(w-1)] = colored_img[1:h-1, 1:(w-1)]\n",
    "                    \n",
    "    return res_matr"
   ]
  },
  {
   "cell_type": "code",
   "execution_count": 1211,
   "id": "91ee6524",
   "metadata": {},
   "outputs": [],
   "source": [
    "raw_img = np.array([[202, 150, 137, 121, 195],\n",
    "                     [ 94,   0, 217,  68, 248],\n",
    "                     [208, 170, 109,  67,  22],\n",
    "                     [ 20,  93, 222,  54,  50],\n",
    "                     [254, 252,  10, 187, 203]], dtype='uint8')\n",
    "colored_img = get_colored_img(raw_img)\n",
    "gt_img = np.zeros((5, 5, 3), 'uint8')\n",
    "r = slice(1, -1), slice(1, -1)\n",
    "gt_img[r + (0,)] = np.array([[160, 127,  94],\n",
    "                              [170, 118,  67],\n",
    "                              [211, 169, 127]])\n",
    "gt_img[r + (1,)] = np.array([[  0,  78,  68],\n",
    "                              [102, 109,  63],\n",
    "                              [ 93,  66,  54]])\n",
    "gt_img[r + (2,)] = np.array([[155, 217, 232],\n",
    "                              [138, 219, 184],\n",
    "                              [121, 222, 136]])"
   ]
  },
  {
   "cell_type": "code",
   "execution_count": 1212,
   "id": "b70223a4",
   "metadata": {},
   "outputs": [
    {
     "data": {
      "text/plain": [
       "(array([[  0,   0,   0,   0,   0],\n",
       "        [ 94, 155, 217, 232, 248],\n",
       "        [  0, 138, 219, 184,   0],\n",
       "        [ 20, 121, 222, 136,  50],\n",
       "        [  0,   0,   0,   0,   0]], dtype=uint8),\n",
       " array([[  0,   0,   0,   0,   0],\n",
       "        [  0, 155, 217, 232,   0],\n",
       "        [  0, 138, 219, 184,   0],\n",
       "        [  0, 121, 222, 136,   0],\n",
       "        [  0,   0,   0,   0,   0]], dtype=uint8))"
      ]
     },
     "execution_count": 1212,
     "metadata": {},
     "output_type": "execute_result"
    }
   ],
   "source": [
    "colored_img = get_colored_img(raw_img)\n",
    "img = img_as_ubyte(bilinear_interpolation(colored_img))\n",
    "colored_img[...,2], img[...,2]"
   ]
  },
  {
   "cell_type": "code",
   "execution_count": 1213,
   "id": "d1052208",
   "metadata": {},
   "outputs": [
    {
     "data": {
      "text/plain": [
       "array([[  0,   0,   0,   0,   0],\n",
       "       [  0, 155, 217, 232,   0],\n",
       "       [  0, 138, 219, 184,   0],\n",
       "       [  0, 121, 222, 136,   0],\n",
       "       [  0,   0,   0,   0,   0]], dtype=uint8)"
      ]
     },
     "execution_count": 1213,
     "metadata": {},
     "output_type": "execute_result"
    }
   ],
   "source": [
    "gt_img[...,2]"
   ]
  },
  {
   "cell_type": "code",
   "execution_count": 1193,
   "id": "2087ddb9",
   "metadata": {},
   "outputs": [],
   "source": [
    "def compute_psnr(img_pred, img_gt):\n",
    "    mask, h, w = img_pred.shape\n",
    "    mse = np.sum((img_pred.astype(int) - img_gt.astype(int))**2) / (mask * h * w)\n",
    "    if(mse == 0):\n",
    "        raise ValueError\n",
    "    else:\n",
    "        return 10 * np.log10(np.max(img_gt)**2 / mse)"
   ]
  },
  {
   "cell_type": "code",
   "execution_count": 1194,
   "id": "87655f05",
   "metadata": {},
   "outputs": [
    {
     "ename": "ValueError",
     "evalue": "",
     "output_type": "error",
     "traceback": [
      "\u001b[0;31m---------------------------------------------------------------------------\u001b[0m",
      "\u001b[0;31mValueError\u001b[0m                                Traceback (most recent call last)",
      "Input \u001b[0;32mIn [1194]\u001b[0m, in \u001b[0;36m<cell line: 6>\u001b[0;34m()\u001b[0m\n\u001b[1;32m      1\u001b[0m img_pred \u001b[38;5;241m=\u001b[39m np\u001b[38;5;241m.\u001b[39marray([[[\u001b[38;5;241m100\u001b[39m, \u001b[38;5;241m117\u001b[39m,  \u001b[38;5;241m56\u001b[39m],\n\u001b[1;32m      2\u001b[0m                        [\u001b[38;5;241m118\u001b[39m, \u001b[38;5;241m156\u001b[39m, \u001b[38;5;241m106\u001b[39m]],\n\u001b[1;32m      3\u001b[0m                       [[ \u001b[38;5;241m93\u001b[39m,  \u001b[38;5;241m13\u001b[39m, \u001b[38;5;241m201\u001b[39m],\n\u001b[1;32m      4\u001b[0m                        [\u001b[38;5;241m206\u001b[39m,  \u001b[38;5;241m15\u001b[39m,  \u001b[38;5;241m29\u001b[39m]]], dtype\u001b[38;5;241m=\u001b[39m\u001b[38;5;124m'\u001b[39m\u001b[38;5;124muint8\u001b[39m\u001b[38;5;124m'\u001b[39m)\n\u001b[1;32m      5\u001b[0m img_gt \u001b[38;5;241m=\u001b[39m img_pred\u001b[38;5;241m.\u001b[39mcopy()\n\u001b[0;32m----> 6\u001b[0m \u001b[43mcompute_psnr\u001b[49m\u001b[43m(\u001b[49m\u001b[43mimg_pred\u001b[49m\u001b[43m,\u001b[49m\u001b[43m \u001b[49m\u001b[43mimg_gt\u001b[49m\u001b[43m)\u001b[49m\n",
      "Input \u001b[0;32mIn [1193]\u001b[0m, in \u001b[0;36mcompute_psnr\u001b[0;34m(img_pred, img_gt)\u001b[0m\n\u001b[1;32m      3\u001b[0m mse \u001b[38;5;241m=\u001b[39m np\u001b[38;5;241m.\u001b[39msum((img_pred\u001b[38;5;241m.\u001b[39mastype(\u001b[38;5;28mint\u001b[39m) \u001b[38;5;241m-\u001b[39m img_gt\u001b[38;5;241m.\u001b[39mastype(\u001b[38;5;28mint\u001b[39m))\u001b[38;5;241m*\u001b[39m\u001b[38;5;241m*\u001b[39m\u001b[38;5;241m2\u001b[39m) \u001b[38;5;241m/\u001b[39m (mask \u001b[38;5;241m*\u001b[39m h \u001b[38;5;241m*\u001b[39m w)\n\u001b[1;32m      4\u001b[0m \u001b[38;5;28;01mif\u001b[39;00m(mse \u001b[38;5;241m==\u001b[39m \u001b[38;5;241m0\u001b[39m):\n\u001b[0;32m----> 5\u001b[0m     \u001b[38;5;28;01mraise\u001b[39;00m \u001b[38;5;167;01mValueError\u001b[39;00m\n\u001b[1;32m      6\u001b[0m \u001b[38;5;28;01melse\u001b[39;00m:\n\u001b[1;32m      7\u001b[0m     \u001b[38;5;28;01mreturn\u001b[39;00m \u001b[38;5;241m10\u001b[39m \u001b[38;5;241m*\u001b[39m np\u001b[38;5;241m.\u001b[39mlog10(np\u001b[38;5;241m.\u001b[39mmax(img_gt)\u001b[38;5;241m*\u001b[39m\u001b[38;5;241m*\u001b[39m\u001b[38;5;241m2\u001b[39m \u001b[38;5;241m/\u001b[39m mse)\n",
      "\u001b[0;31mValueError\u001b[0m: "
     ]
    }
   ],
   "source": [
    "img_pred = np.array([[[100, 117,  56],\n",
    "                       [118, 156, 106]],\n",
    "                      [[ 93,  13, 201],\n",
    "                       [206,  15,  29]]], dtype='uint8')\n",
    "img_gt = img_pred.copy()\n",
    "compute_psnr(img_pred, img_gt)"
   ]
  },
  {
   "cell_type": "code",
   "execution_count": 1165,
   "id": "fcd29617",
   "metadata": {},
   "outputs": [
    {
     "ename": "TypeError",
     "evalue": "only size-1 arrays can be converted to Python scalars",
     "output_type": "error",
     "traceback": [
      "\u001b[0;31m---------------------------------------------------------------------------\u001b[0m",
      "\u001b[0;31mTypeError\u001b[0m                                 Traceback (most recent call last)",
      "Input \u001b[0;32mIn [1165]\u001b[0m, in \u001b[0;36m<cell line: 1>\u001b[0;34m()\u001b[0m\n\u001b[1;32m      1\u001b[0m \u001b[38;5;28;01mfor\u001b[39;00m i \u001b[38;5;129;01min\u001b[39;00m \u001b[38;5;28mrange\u001b[39m(\u001b[38;5;28mlen\u001b[39m(img_pred)):\n\u001b[0;32m----> 2\u001b[0m     \u001b[38;5;28;43mint\u001b[39;49m\u001b[43m(\u001b[49m\u001b[43mimg_pred\u001b[49m\u001b[43m[\u001b[49m\u001b[43mi\u001b[49m\u001b[43m]\u001b[49m\u001b[43m)\u001b[49m \u001b[38;5;241m-\u001b[39m \u001b[38;5;28mint\u001b[39m(img_gt[i])\n",
      "\u001b[0;31mTypeError\u001b[0m: only size-1 arrays can be converted to Python scalars"
     ]
    }
   ],
   "source": [
    "for i in range(len(img_pred)):\n",
    "    int(img_pred[i]) - int(img_gt[i])"
   ]
  },
  {
   "cell_type": "code",
   "execution_count": 1170,
   "id": "82a806f4",
   "metadata": {},
   "outputs": [
    {
     "data": {
      "text/plain": [
       "101"
      ]
     },
     "execution_count": 1170,
     "metadata": {},
     "output_type": "execute_result"
    }
   ],
   "source": [
    "np.sum((img_pred.astype(int) - img_gt.astype(int))**2)"
   ]
  },
  {
   "cell_type": "code",
   "execution_count": null,
   "id": "3cf81adb",
   "metadata": {},
   "outputs": [],
   "source": []
  }
 ],
 "metadata": {
  "kernelspec": {
   "display_name": "Python 3 (ipykernel)",
   "language": "python",
   "name": "python3"
  },
  "language_info": {
   "codemirror_mode": {
    "name": "ipython",
    "version": 3
   },
   "file_extension": ".py",
   "mimetype": "text/x-python",
   "name": "python",
   "nbconvert_exporter": "python",
   "pygments_lexer": "ipython3",
   "version": "3.10.6"
  }
 },
 "nbformat": 4,
 "nbformat_minor": 5
}
